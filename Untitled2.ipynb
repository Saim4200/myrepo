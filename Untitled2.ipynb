{
 "cells": [
  {
   "cell_type": "code",
   "execution_count": 1,
   "metadata": {},
   "outputs": [
    {
     "data": {
      "text/plain": [
       "'abxcdy'"
      ]
     },
     "execution_count": 1,
     "metadata": {},
     "output_type": "execute_result"
    }
   ],
   "source": [
    "def front_back(a, b):\n",
    "    strlna = len(a)\n",
    "    strlnb = len(b)\n",
    "    if strlna%2 == 0:\n",
    "        half = int(strlna // 2)\n",
    "        a_front = a[0:half]\n",
    "        a_back = a[half:]\n",
    "    else:\n",
    "        half = strlna // 2\n",
    "        a_front = a[0:half+1]\n",
    "        a_back = a[half+1:]\n",
    "    if strlnb%2 == 0:\n",
    "        half = strlnb // 2\n",
    "        b_front = b[0:half]\n",
    "        b_back = b[half:]\n",
    "    else:\n",
    "        half = strlnb // 2\n",
    "        b_front = b[0:half+1]\n",
    "        b_back = b[half+1:]\n",
    "    return a_front + b_front + a_back + b_back\n",
    "\n",
    "front_back('abcd', 'xy')"
   ]
  },
  {
   "cell_type": "code",
   "execution_count": null,
   "metadata": {},
   "outputs": [],
   "source": []
  }
 ],
 "metadata": {
  "kernelspec": {
   "display_name": "Python 3",
   "language": "python",
   "name": "python3"
  },
  "language_info": {
   "codemirror_mode": {
    "name": "ipython",
    "version": 3
   },
   "file_extension": ".py",
   "mimetype": "text/x-python",
   "name": "python",
   "nbconvert_exporter": "python",
   "pygments_lexer": "ipython3",
   "version": "3.7.1"
  }
 },
 "nbformat": 4,
 "nbformat_minor": 2
}
