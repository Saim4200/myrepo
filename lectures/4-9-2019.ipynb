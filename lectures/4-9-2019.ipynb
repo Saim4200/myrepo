{
 "cells": [
  {
   "cell_type": "code",
   "execution_count": 74,
   "metadata": {},
   "outputs": [],
   "source": [
    "class Patient():\n",
    "    def __init__(self, name='xxxxx', age=22):\n",
    "        self.name = name\n",
    "        self.age = age\n",
    "    def walk(self):\n",
    "        print(f\"{self.name.title()} is walking\")\n",
    "    def eat(self):\n",
    "        print(f\"{self.name} is eating\")\n",
    "    def buy(self):\n",
    "        print(f\"{self.name} is buying\")"
   ]
  },
  {
   "cell_type": "code",
   "execution_count": 77,
   "metadata": {},
   "outputs": [],
   "source": [
    "patient1 = Patient(name='koljn', age=21)"
   ]
  },
  {
   "cell_type": "code",
   "execution_count": 78,
   "metadata": {},
   "outputs": [
    {
     "name": "stdout",
     "output_type": "stream",
     "text": [
      "Koljn is walking\n"
     ]
    }
   ],
   "source": [
    "patient1.walk()"
   ]
  },
  {
   "cell_type": "code",
   "execution_count": 67,
   "metadata": {},
   "outputs": [
    {
     "data": {
      "text/plain": [
       "'xxxxx'"
      ]
     },
     "execution_count": 67,
     "metadata": {},
     "output_type": "execute_result"
    }
   ],
   "source": [
    "patient1.name"
   ]
  },
  {
   "cell_type": "code",
   "execution_count": 68,
   "metadata": {},
   "outputs": [
    {
     "data": {
      "text/plain": [
       "21"
      ]
     },
     "execution_count": 68,
     "metadata": {},
     "output_type": "execute_result"
    }
   ],
   "source": [
    "patient1.age"
   ]
  },
  {
   "cell_type": "code",
   "execution_count": 69,
   "metadata": {},
   "outputs": [
    {
     "name": "stdout",
     "output_type": "stream",
     "text": [
      "xxxxx is walking\n"
     ]
    }
   ],
   "source": [
    "patient1.walk()"
   ]
  },
  {
   "cell_type": "code",
   "execution_count": 70,
   "metadata": {},
   "outputs": [
    {
     "name": "stdout",
     "output_type": "stream",
     "text": [
      "xxxxx is walking\n",
      "xxxxx is eating\n"
     ]
    }
   ],
   "source": [
    "patient1.walk()\n",
    "patient1.eat()"
   ]
  },
  {
   "cell_type": "code",
   "execution_count": 71,
   "metadata": {},
   "outputs": [
    {
     "name": "stdout",
     "output_type": "stream",
     "text": [
      "xxxxx is a minor\n"
     ]
    }
   ],
   "source": [
    "def sayIfMinor(fname, age):\n",
    "    if age < 22:\n",
    "        print(f\"{fname} is a minor\")\n",
    "    else:\n",
    "        print(f\"{fname} is not a minor\")\n",
    "        \n",
    "sayIfMinor(patient1.name, patient1.age)"
   ]
  },
  {
   "cell_type": "code",
   "execution_count": 73,
   "metadata": {},
   "outputs": [],
   "source": [
    "patient1.name = 'new'"
   ]
  },
  {
   "cell_type": "code",
   "execution_count": null,
   "metadata": {},
   "outputs": [],
   "source": []
  },
  {
   "cell_type": "code",
   "execution_count": 2,
   "metadata": {},
   "outputs": [],
   "source": [
    "class User():\n",
    "    def __init__(self, userId, fname='xxxxx', lname='', gender='male', age=22):\n",
    "        self.userId = userId\n",
    "        self.fname = fname\n",
    "        self.lname = lname\n",
    "        self.age = age\n",
    "        self.gender = gender\n",
    "    def describe_user(self):\n",
    "        print(f\"Name: \\t {self.fname.title()} {self.lname.title()}\")\n",
    "        print(f\"Age: \\t {self.age}\")\n",
    "        print(f\"gender:\\t {self.gender}\")"
   ]
  },
  {
   "cell_type": "code",
   "execution_count": 3,
   "metadata": {},
   "outputs": [],
   "source": [
    "user1 = User (1, 'asad')\n",
    "user2 = User (2, 'john')\n",
    "user3 = User (3, 'fahad')\n",
    "user4 = User (4, 'ali')"
   ]
  },
  {
   "cell_type": "code",
   "execution_count": 4,
   "metadata": {},
   "outputs": [
    {
     "name": "stdout",
     "output_type": "stream",
     "text": [
      "Name: \t Asad \n",
      "Age: \t 22\n",
      "gender:\t male\n"
     ]
    }
   ],
   "source": [
    "user1.describe_user()"
   ]
  },
  {
   "cell_type": "code",
   "execution_count": 5,
   "metadata": {},
   "outputs": [
    {
     "name": "stdout",
     "output_type": "stream",
     "text": [
      "2016 Audi A4\n",
      "This car has 0 miles on it.\n"
     ]
    }
   ],
   "source": [
    "class Car():\n",
    "    def __init__(self, make, model, year):\n",
    "        self.make = make\n",
    "        self.model = model\n",
    "        self.year = year\n",
    "        self.odometer_reading = 0\n",
    "    \n",
    "    def get_descriptive_name(self):\n",
    "        long_name = str(self.year) + ' ' + self.make + ' ' + self.model\n",
    "        return long_name.title()\n",
    "    def read_odometer(self):\n",
    "        print(\"This car has \" + str(self.odometer_reading) + \" miles on it.\")\n",
    "\n",
    "my_new_car = Car('audi', 'a4', 2016)\n",
    "print(my_new_car.get_descriptive_name())\n",
    "my_new_car.read_odometer()"
   ]
  },
  {
   "cell_type": "code",
   "execution_count": 20,
   "metadata": {},
   "outputs": [
    {
     "name": "stdout",
     "output_type": "stream",
     "text": [
      "Name: \t Abc Def\n",
      "Age: \t 22\n",
      "gender:\t male\n",
      "-------------\n",
      "User is a student. His details are \n",
      "Roll no is 23565\n"
     ]
    }
   ],
   "source": [
    "class Student (User):\n",
    "    def __init__(self, userId, fname, lname, gender, age, course, rollno):\n",
    "        super().__init__(userId, fname, lname, gender, age);\n",
    "        self.course = course;\n",
    "        self.rollno = rollno\n",
    "    def describe_user(self):\n",
    "        super().describe_user();\n",
    "        print('--------------');\n",
    "        print(f\"User is a student. His details are \\nRoll no is {self.rollno}\");\n",
    "    \n",
    "stud = Student(21212, 'abc', 'def', 'male', 22, 'mathematics', 23565);\n",
    "stud.describe_user();"
   ]
  },
  {
   "cell_type": "code",
   "execution_count": null,
   "metadata": {},
   "outputs": [],
   "source": []
  }
 ],
 "metadata": {
  "kernelspec": {
   "display_name": "Python 3",
   "language": "python",
   "name": "python3"
  },
  "language_info": {
   "codemirror_mode": {
    "name": "ipython",
    "version": 3
   },
   "file_extension": ".py",
   "mimetype": "text/x-python",
   "name": "python",
   "nbconvert_exporter": "python",
   "pygments_lexer": "ipython3",
   "version": "3.7.1"
  }
 },
 "nbformat": 4,
 "nbformat_minor": 2
}
